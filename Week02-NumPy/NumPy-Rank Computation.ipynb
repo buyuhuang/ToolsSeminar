{
 "cells": [
  {
   "cell_type": "markdown",
   "metadata": {},
   "source": [
    "# NumPy Assignment --- Rank Computation\n",
    "## Description\n",
    "In this assignment, we are given a randomly generated 10$ \\times $10 matrix, and we aim to compute the rank of the matrix without directly invoking the 'rank' method."
   ]
  },
  {
   "cell_type": "code",
   "execution_count": 1,
   "metadata": {
    "collapsed": true
   },
   "outputs": [],
   "source": [
    "import numpy as np"
   ]
  },
  {
   "cell_type": "code",
   "execution_count": 3,
   "metadata": {},
   "outputs": [
    {
     "name": "stdout",
     "output_type": "stream",
     "text": [
      "[[ 0.50944347  0.81440354  0.93708233  0.1633428   0.08774905  0.76095873\n",
      "   0.21474902  0.33180413  0.84163397  0.86533906]\n",
      " [ 0.49756428  0.58252573  0.60584441  0.75867624  0.31563348  0.87854118\n",
      "   0.80647103  0.84972951  0.83220764  0.64005566]\n",
      " [ 0.93113576  0.35640324  0.2832836   0.78521892  0.69530969  0.82250982\n",
      "   0.17972456  0.31778258  0.58582088  0.55593159]\n",
      " [ 0.09295944  0.62883097  0.78151249  0.85662339  0.85127975  0.46895815\n",
      "   0.77222765  0.21802775  0.6135509   0.55766725]\n",
      " [ 0.29726461  0.87429267  0.35812331  0.0732171   0.47385829  0.97089248\n",
      "   0.08919378  0.90784796  0.9122947   0.26014478]\n",
      " [ 0.23587695  0.88882949  0.21739638  0.7084264   0.07606954  0.527538\n",
      "   0.88013042  0.46684418  0.23989463  0.66367674]\n",
      " [ 0.50389342  0.83748842  0.84669304  0.34999416  0.76514261  0.62142858\n",
      "   0.63617245  0.51324102  0.32795816  0.16845453]\n",
      " [ 0.69749149  0.75106406  0.03395791  0.937531    0.90249372  0.04726408\n",
      "   0.13961905  0.17696221  0.59185444  0.02784274]\n",
      " [ 0.32042687  0.71007547  0.25610314  0.10539514  0.82145393  0.48506632\n",
      "   0.59645052  0.40028028  0.84735279  0.52032471]\n",
      " [ 0.80441456  0.39327083  0.61013586  0.66383341  0.37891844  0.14828168\n",
      "   0.59442103  0.84602777  0.47773454  0.89618914]]\n"
     ]
    }
   ],
   "source": [
    "Z = np.random.uniform(0,1,(10,10))\n",
    "print(Z)"
   ]
  },
  {
   "cell_type": "markdown",
   "metadata": {},
   "source": [
    "### Your implementation\n",
    "Enter your code below!"
   ]
  },
  {
   "cell_type": "code",
   "execution_count": null,
   "metadata": {
    "collapsed": true
   },
   "outputs": [],
   "source": []
  },
  {
   "cell_type": "markdown",
   "metadata": {},
   "source": [
    "### Key\n",
    "Skip upon first reading!"
   ]
  },
  {
   "cell_type": "code",
   "execution_count": 4,
   "metadata": {},
   "outputs": [
    {
     "name": "stdout",
     "output_type": "stream",
     "text": [
      "10\n"
     ]
    }
   ],
   "source": [
    "U, S, V = np.linalg.svd(Z) # Singular Value Decomposition\n",
    "rank = np.sum(S > 1e-10)\n",
    "print(rank)"
   ]
  }
 ],
 "metadata": {
  "kernelspec": {
   "display_name": "Python 3",
   "language": "python",
   "name": "python3"
  },
  "language_info": {
   "codemirror_mode": {
    "name": "ipython",
    "version": 3
   },
   "file_extension": ".py",
   "mimetype": "text/x-python",
   "name": "python",
   "nbconvert_exporter": "python",
   "pygments_lexer": "ipython3",
   "version": "3.6.3"
  }
 },
 "nbformat": 4,
 "nbformat_minor": 2
}
