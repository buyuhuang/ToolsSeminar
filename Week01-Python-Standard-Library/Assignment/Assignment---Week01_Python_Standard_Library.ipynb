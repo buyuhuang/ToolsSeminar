{
 "cells": [
  {
   "cell_type": "markdown",
   "metadata": {},
   "source": [
    "# Question1(Required)\n",
    "## Description\n",
    "If you get the date and time input by the costumer, like `2015-1-21 9:01:30` and the time zone information, like `UTC+5:00`, all of which are string objects. Please devise a program to transform these given information to timestamp.\n",
    "\n",
    "( In order to complete this question, you probably need read the latter part about `re` )\n",
    "## Your implementation"
   ]
  },
  {
   "cell_type": "code",
   "execution_count": null,
   "metadata": {},
   "outputs": [],
   "source": [
    "import re\n",
    "from datetime import datetime, timezone, timedelta"
   ]
  },
  {
   "cell_type": "code",
   "execution_count": null,
   "metadata": {},
   "outputs": [],
   "source": [
    "#Your code here\n",
    "def to_timestamp(dt_str, tz_str):\n",
    "    pass\n"
   ]
  },
  {
   "cell_type": "code",
   "execution_count": null,
   "metadata": {},
   "outputs": [],
   "source": [
    "#Test:\n",
    "t1 = to_timestamp('2015-6-1 08:10:30', 'UTC+7:00')\n",
    "assert t1 == 1433121030.0, t1\n",
    "\n",
    "t2 = to_timestamp('2015-5-31 16:10:30', 'UTC-09:00')\n",
    "assert t2 == 1433121030.0, t2\n",
    "\n",
    "print('ok')"
   ]
  },
  {
   "cell_type": "markdown",
   "metadata": {},
   "source": [
    "# Question2\n",
    "## Description\n",
    "Devise a `decorator`, which can affect any function and print the executing time of the function.\n",
    "## Your implementation"
   ]
  },
  {
   "cell_type": "code",
   "execution_count": null,
   "metadata": {},
   "outputs": [],
   "source": [
    "import time, functools"
   ]
  },
  {
   "cell_type": "code",
   "execution_count": null,
   "metadata": {},
   "outputs": [],
   "source": [
    "#Your code here\n",
    "def metric(fn):\n",
    "    print('%s executed in %s ms' % (fn.__name__, 10.24))\n",
    "    return fn"
   ]
  },
  {
   "cell_type": "code",
   "execution_count": null,
   "metadata": {},
   "outputs": [],
   "source": [
    "#Test:\n",
    "@metric\n",
    "def fast(x, y):\n",
    "    time.sleep(0.0012)\n",
    "    return x + y;\n",
    "\n",
    "@metric\n",
    "def slow(x, y, z):\n",
    "    time.sleep(0.1234)\n",
    "    return x * y * z;\n",
    "\n",
    "f = fast(11, 22)\n",
    "s = slow(11, 22, 33)\n",
    "if f != 33:\n",
    "    print('测试失败!')\n",
    "elif s != 7986:\n",
    "    print('测试失败!')"
   ]
  },
  {
   "cell_type": "markdown",
   "metadata": {},
   "source": [
    "# Question3(Required)\n",
    "## Description\n",
    "Use the `deque` to realize a `stack` class.\n",
    "The following listing is the abstract data structure of stack:\n",
    "\n",
    "ADT Stack:\n",
    "\n",
    "  stack : () -> Stack\n",
    "  \n",
    "  is_empty : Stack -> Bool\n",
    "  \n",
    "  push : Stack * Data -> Stack\n",
    "  \n",
    "  pop : Stack -> Stack\n",
    "  \n",
    "  top : Stack -> Data\n",
    "  \n",
    "end ADT Stack\n",
    "## Your implementation"
   ]
  },
  {
   "cell_type": "code",
   "execution_count": null,
   "metadata": {},
   "outputs": [],
   "source": [
    "from collections import deque"
   ]
  },
  {
   "cell_type": "code",
   "execution_count": null,
   "metadata": {},
   "outputs": [],
   "source": [
    "#Your code here"
   ]
  },
  {
   "cell_type": "markdown",
   "metadata": {},
   "source": [
    "# Question4\n",
    "## Description\n",
    "Serialize and deserialize an object of the stack class above to a `{}` in JSON.\n",
    "## Key\n",
    "The following program serialize and deserialize an object of the Student class."
   ]
  },
  {
   "cell_type": "code",
   "execution_count": null,
   "metadata": {},
   "outputs": [],
   "source": [
    "import json\n",
    "\n",
    "class Student(object):\n",
    "    def __init__(self, name, age, score):\n",
    "        self.name = name\n",
    "        self.age = age\n",
    "        self.score = score\n",
    "\n",
    "s = Student('Bob', 20, 88)\n",
    "\n",
    "def student2dict(std):\n",
    "    return {\n",
    "        'name': std.name,\n",
    "        'age': std.age,\n",
    "        'score': std.score\n",
    "    }\n",
    "print(json.dumps(s, default=student2dict))\n",
    "def dict2student(d):\n",
    "    return Student(d['name'], d['age'], d['score'])\n",
    "json_str = '{\"age\": 20, \"score\": 88, \"name\": \"Bob\"}'\n",
    "print(json.loads(json_str, object_hook=dict2student))"
   ]
  },
  {
   "cell_type": "markdown",
   "metadata": {},
   "source": [
    "## Your implementation"
   ]
  },
  {
   "cell_type": "code",
   "execution_count": null,
   "metadata": {},
   "outputs": [],
   "source": [
    "#Your code here"
   ]
  },
  {
   "cell_type": "markdown",
   "metadata": {},
   "source": [
    "# Question5(Required)\n",
    "## Description\n",
    "Use the `OrderedDict` to realize a FIFO(first in first out) dict. When the dict is full, delete the Key added the ealiest.\n",
    "## Your implementation"
   ]
  },
  {
   "cell_type": "code",
   "execution_count": null,
   "metadata": {},
   "outputs": [],
   "source": [
    "from collections import OrderedDict"
   ]
  },
  {
   "cell_type": "code",
   "execution_count": null,
   "metadata": {},
   "outputs": [],
   "source": [
    "#Your code here"
   ]
  },
  {
   "cell_type": "markdown",
   "metadata": {},
   "source": [
    "# Question6(Required)\n",
    "## Description\n",
    "Write a regular expression to examine Email address. It should examine `someone@gmail.com` and `bill.gates@microsoft.com`.\n",
    "## Your implementation"
   ]
  },
  {
   "cell_type": "code",
   "execution_count": null,
   "metadata": {},
   "outputs": [],
   "source": [
    "import re"
   ]
  },
  {
   "cell_type": "code",
   "execution_count": null,
   "metadata": {},
   "outputs": [],
   "source": [
    "#Your code here\n",
    "def is_valid_email(addr):\n",
    "    return True"
   ]
  },
  {
   "cell_type": "code",
   "execution_count": null,
   "metadata": {},
   "outputs": [],
   "source": [
    "#Test:\n",
    "assert is_valid_email('someone@gmail.com')\n",
    "assert is_valid_email('bill.gates@microsoft.com')\n",
    "assert not is_valid_email('bob#example.com')\n",
    "assert not is_valid_email('mr-bob@example.com')\n",
    "print('ok')"
   ]
  },
  {
   "cell_type": "markdown",
   "metadata": {},
   "source": [
    "# Question7\n",
    "## Description\n",
    "Write a regular expression to examine Email address and get the name in it. For example, `<Tom Paris> tom@voyager.org=>Tom Paris`, `bob@example.com=>bob`\n",
    "## Your implementation"
   ]
  },
  {
   "cell_type": "code",
   "execution_count": null,
   "metadata": {},
   "outputs": [],
   "source": [
    "import re"
   ]
  },
  {
   "cell_type": "code",
   "execution_count": null,
   "metadata": {},
   "outputs": [],
   "source": [
    "#Your code here\n",
    "def name_of_email(addr):\n",
    "    return None"
   ]
  },
  {
   "cell_type": "code",
   "execution_count": null,
   "metadata": {},
   "outputs": [],
   "source": [
    "#Test:\n",
    "assert name_of_email('<Tom Paris> tom@voyager.org') == 'Tom Paris'\n",
    "assert name_of_email('tom@voyager.org') == 'tom'\n",
    "print('ok')"
   ]
  },
  {
   "cell_type": "markdown",
   "metadata": {},
   "source": [
    "# Question8\n",
    "## Description\n",
    "Use the itertools to calculate the value of $\\pi$. \n",
    "## Your implementation"
   ]
  },
  {
   "cell_type": "code",
   "execution_count": null,
   "metadata": {},
   "outputs": [],
   "source": [
    "import itertools"
   ]
  },
  {
   "cell_type": "code",
   "execution_count": null,
   "metadata": {},
   "outputs": [],
   "source": [
    "#Your code here\n",
    "def pi(N):\n",
    "\n",
    "    # step 1: create a series of odd numbers: 1, 3, 5, 7, 9, ...\n",
    "\n",
    "    # step 2: choose the first N ones: 1, 3, 5, 7, 9, ..., 2*N-1.\n",
    "\n",
    "    # step 3: add +/- and divise 4: 4/1, -4/3, 4/5, -4/7, 4/9, ...\n",
    "\n",
    "    # step 4: sum:\n",
    "    return 3.14"
   ]
  },
  {
   "cell_type": "code",
   "execution_count": null,
   "metadata": {},
   "outputs": [],
   "source": [
    "#Test:\n",
    "print(pi(10))\n",
    "print(pi(100))\n",
    "print(pi(1000))\n",
    "print(pi(10000))\n",
    "assert 3.04 < pi(10) < 3.05\n",
    "assert 3.13 < pi(100) < 3.14\n",
    "assert 3.140 < pi(1000) < 3.141\n",
    "assert 3.1414 < pi(10000) < 3.1415\n",
    "print('ok')"
   ]
  }
 ],
 "metadata": {
  "kernelspec": {
   "display_name": "Python 3",
   "language": "python",
   "name": "python3"
  },
  "language_info": {
   "codemirror_mode": {
    "name": "ipython",
    "version": 3
   },
   "file_extension": ".py",
   "mimetype": "text/x-python",
   "name": "python",
   "nbconvert_exporter": "python",
   "pygments_lexer": "ipython3",
   "version": "3.6.3"
  }
 },
 "nbformat": 4,
 "nbformat_minor": 2
}
