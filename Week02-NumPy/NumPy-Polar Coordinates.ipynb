{
 "cells": [
  {
   "cell_type": "markdown",
   "metadata": {},
   "source": [
    "# NumPy Assignment --- Polar Coordinates\n",
    "## Description\n",
    "In this assignment, we are given a randomly generated 10$ \\times $2 matrix representing cartesian coordinates， and we aim to convert them to polar coordinates."
   ]
  },
  {
   "cell_type": "code",
   "execution_count": 6,
   "metadata": {
    "collapsed": true
   },
   "outputs": [],
   "source": [
    "import numpy as np\n"
   ]
  },
  {
   "cell_type": "code",
   "execution_count": 9,
   "metadata": {},
   "outputs": [
    {
     "name": "stdout",
     "output_type": "stream",
     "text": [
      "[[ 0.72706887  0.3658759 ]\n",
      " [ 0.7076304   0.37160704]\n",
      " [ 0.09505978  0.75814862]\n",
      " [ 0.38579525  0.05878852]\n",
      " [ 0.2704841   0.40069804]\n",
      " [ 0.01760683  0.34255006]\n",
      " [ 0.50191993  0.78101662]\n",
      " [ 0.45924712  0.43845973]\n",
      " [ 0.48304406  0.07036097]\n",
      " [ 0.89109803  0.62577397]]\n"
     ]
    }
   ],
   "source": [
    "Z = np.random.random((10,2))\n",
    "print(Z)"
   ]
  },
  {
   "cell_type": "markdown",
   "metadata": {},
   "source": [
    "### Your implementation\n",
    "Enter your code below!"
   ]
  },
  {
   "cell_type": "code",
   "execution_count": null,
   "metadata": {
    "collapsed": true
   },
   "outputs": [],
   "source": []
  },
  {
   "cell_type": "markdown",
   "metadata": {},
   "source": [
    "### Key\n",
    "Skip upon first reading!"
   ]
  },
  {
   "cell_type": "code",
   "execution_count": 10,
   "metadata": {},
   "outputs": [
    {
     "name": "stdout",
     "output_type": "stream",
     "text": [
      "[ 0.81393754  0.79927003  0.76408487  0.39024872  0.48344656  0.34300225\n",
      "  0.92839139  0.63494477  0.48814161  1.088875  ]\n",
      "[ 0.46622063  0.48355897  1.44606316  0.1512194   0.9770245   1.51944222\n",
      "  0.99960579  0.7622462   0.14464433  0.61223472]\n"
     ]
    }
   ],
   "source": [
    "X,Y = Z[:,0], Z[:,1]\n",
    "R = np.sqrt(X**2+Y**2)\n",
    "T = np.arctan2(Y,X)\n",
    "print(R)\n",
    "print(T)"
   ]
  }
 ],
 "metadata": {
  "kernelspec": {
   "display_name": "Python 3",
   "language": "python",
   "name": "python3"
  },
  "language_info": {
   "codemirror_mode": {
    "name": "ipython",
    "version": 3
   },
   "file_extension": ".py",
   "mimetype": "text/x-python",
   "name": "python",
   "nbconvert_exporter": "python",
   "pygments_lexer": "ipython3",
   "version": "3.6.3"
  }
 },
 "nbformat": 4,
 "nbformat_minor": 2
}
